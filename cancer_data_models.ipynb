{
 "cells": [
  {
   "cell_type": "markdown",
   "metadata": {
    "collapsed": true,
    "pycharm": {
     "name": "#%% md\n"
    }
   },
   "source": [
    "# <center>Group Project 1: Supervised Learning</center>\n",
    "## <center>Josh Melton and Ivan Benitez</center>  \n",
    "\n",
    "### Part 1: Breast Cancer Data\n",
    "#### a) Data Preparation\n",
    "First, read the breast cancer data csv into a pandas dataframe:\n",
    "- Set the column names\n",
    "- Index using the 'id' column\n",
    "- Remove the Unnamed column"
   ]
  },
  {
   "cell_type": "code",
   "execution_count": 1,
   "metadata": {
    "pycharm": {
     "is_executing": false,
     "name": "#%%\n"
    }
   },
   "outputs": [],
   "source": [
    "import pandas as pd\n",
    "\n",
    "cancer_data = pd.read_csv('breastcancer_data.csv',\n",
    "                          header=0,\n",
    "                          index_col=0)\n",
    "cancer_data.drop(cancer_data.filter(regex='Unnamed'),\n",
    "                 axis=1, inplace=True)\n",
    "# cancer_data.info()"
   ]
  },
  {
   "cell_type": "markdown",
   "metadata": {},
   "source": [
    "Then, split the data into our class labels and data features.\n",
    "\n",
    "Our class label is the 'diagnosis' column, which has two classes: Metastatic (M) and Benign (B).  \n",
    "For simplicity, the metastatic class is converted to 1 and the benign class to 0."
   ]
  },
  {
   "cell_type": "code",
   "execution_count": 2,
   "metadata": {
    "pycharm": {
     "is_executing": false,
     "name": "#%%\n"
    }
   },
   "outputs": [],
   "source": [
    "labels = cancer_data['diagnosis']\n",
    "labels.replace('M', 1, inplace=True)\n",
    "labels.replace('B', 0, inplace=True)\n",
    "\n",
    "features = cancer_data.drop('diagnosis', axis=1)"
   ]
  },
  {
   "cell_type": "markdown",
   "metadata": {},
   "source": [
    "Next, split the data into training and tests sets for fitting and testing our models."
   ]
  },
  {
   "cell_type": "code",
   "execution_count": 3,
   "metadata": {
    "pycharm": {
     "is_executing": false,
     "name": "#%%\n"
    }
   },
   "outputs": [],
   "source": [
    "from sklearn import model_selection as ms\n",
    "\n",
    "X_train, X_test, y_train, y_test = ms.train_test_split(features, labels,\n",
    "                                                       test_size=0.2,\n",
    "                                                       random_state=123)"
   ]
  },
  {
   "cell_type": "markdown",
   "metadata": {},
   "source": [
    "#### b) Naive Bayes Model\n",
    "\n",
    "Initialize and fit the Gaussian Naive Bayes model to the training data.  \n",
    "Then evaluate the model's performance on the test set."
   ]
  },
  {
   "cell_type": "code",
   "execution_count": 4,
   "metadata": {
    "pycharm": {
     "is_executing": false,
     "name": "#%%\n"
    }
   },
   "outputs": [
    {
     "name": "stdout",
     "text": [
      "    Confusion Matrix\n                 Predict Positive    Predict Negative\nActual Positive         36                 5\nActual Negative         0                 73\n\nAccuracy: 0.956\n\n    Classification Report\n           Positive    Negative\nNum cases    41           73\nPrecision    1.00       0.94\nRecall       0.88       1.00\nF1 Score     0.94       0.97\n"
     ],
     "output_type": "stream"
    }
   ],
   "source": [
    "from sklearn.naive_bayes import GaussianNB\n",
    "from sklearn import metrics\n",
    "\n",
    "gnb = GaussianNB()\n",
    "gnb.fit(X_train, y_train)\n",
    "\n",
    "y_pred_gnb = gnb.predict(X_test)\n",
    "\n",
    "def print_metrics(labels, preds):\n",
    "    \"\"\"\n",
    "        Prints confusion matrix and metrics scores for a binary classification\n",
    "    \"\"\"\n",
    "    scores = metrics.precision_recall_fscore_support(labels, preds)\n",
    "    conf = metrics.confusion_matrix(labels, preds)\n",
    "    print(' ' * 4 + 'Confusion Matrix')\n",
    "    print(' ' * 17 + 'Predict Positive    Predict Negative')\n",
    "    print('Actual Positive         {}                 {}'.format(conf[1, 1], conf[1, 0]))\n",
    "    print('Actual Negative         {}                 {}'.format(conf[0, 1], conf[0, 0]))\n",
    "    print()\n",
    "    print('Accuracy: {:.3f}'.format(metrics.accuracy_score(labels, preds)))\n",
    "    print()\n",
    "    print(' ' * 4 + 'Classification Report')\n",
    "    print(' ' * 11 + 'Positive    Negative')\n",
    "    print('Num cases    {}           {}'.format(scores[3][1], scores[3][0]))\n",
    "    print('Precision    {:.2f}       {:.2f}'.format(scores[0][1], scores[0][0]))\n",
    "    print('Recall       {:.2f}       {:.2f}'.format(scores[1][1], scores[1][0]))\n",
    "    print('F1 Score     {:.2f}       {:.2f}'.format(scores[2][1], scores[2][0]))\n",
    "\n",
    "print_metrics(y_test, y_pred_gnb)"
   ]
  },
  {
   "cell_type": "markdown",
   "metadata": {
    "pycharm": {
     "name": "#%% md\n"
    }
   },
   "source": [
    "Finally, run 5-fold cross-validation on the entire dataset to evaluate the model's performance.  \n",
    "F1, precision, recall, and accuracy scores are reported for each fold as well as the mean score across all folds."
   ]
  },
  {
   "cell_type": "code",
   "execution_count": 5,
   "metadata": {
    "pycharm": {
     "is_executing": false,
     "name": "#%%\n"
    }
   },
   "outputs": [
    {
     "name": "stdout",
     "text": [
      "    Cross Validation Scores\n         F1     Precision    Recall    Accuracy\nFold 1   0.897    0.886      0.907     0.922\nFold 2   0.886    0.972      0.814     0.922\nFold 3   0.938    0.974      0.905     0.956\nFold 4   0.927    0.950      0.905     0.947\nFold 5   0.940    0.951      0.929     0.956\n\nMean F1: 0.917\nMean Precision: 0.947\nMean Recall: 0.892\nMean Accuracy: 0.940\n"
     ],
     "output_type": "stream"
    }
   ],
   "source": [
    "scoring = ['f1', 'precision', 'recall', 'accuracy']\n",
    "gnb_cv_scores = ms.cross_validate(gnb, features, labels,\n",
    "                                  cv=5, scoring=scoring)\n",
    "\n",
    "def print_cv_scores(results):\n",
    "    \"\"\"\n",
    "        Prints scoring metrics from cross-validation \n",
    "    \"\"\"\n",
    "    f1 = results['test_f1']\n",
    "    precision = results['test_precision']\n",
    "    recall = results['test_recall']\n",
    "    accuracy = results['test_accuracy']\n",
    "\n",
    "    print(' ' * 4 + 'Cross Validation Scores')\n",
    "    print(' ' * 9 + 'F1     Precision    Recall    Accuracy')\n",
    "    for i, (f, p, r, a) in enumerate(zip(f1, precision, recall, accuracy)):\n",
    "        print('Fold {}   {:.3f}    {:.3f}      {:.3f}     {:.3f}'.format(i+1, f, p, r, a))\n",
    "    print()\n",
    "    print('Mean F1: {:.3f}'.format(f1.mean()))\n",
    "    print('Mean Precision: {:.3f}'.format(precision.mean()))\n",
    "    print('Mean Recall: {:.3f}'.format(recall.mean()))\n",
    "    print('Mean Accuracy: {:.3f}'.format(accuracy.mean()))\n",
    "\n",
    "print_cv_scores(gnb_cv_scores)"
   ]
  },
  {
   "cell_type": "markdown",
   "metadata": {},
   "source": [
    "#### d) K-Nearest Neighbors Model\n",
    "\n",
    "Initialize and fit the KNN model to the training data. Run 5-fold cross validation to tune the optimal\n",
    "number of neighbors, refitting the model based on the best F1 score."
   ]
  },
  {
   "cell_type": "code",
   "execution_count": 6,
   "metadata": {
    "pycharm": {
     "is_executing": false,
     "name": "#%%\n"
    }
   },
   "outputs": [
    {
     "name": "stdout",
     "text": [
      "Best k: {'n_neighbors': 7}\n"
     ],
     "output_type": "stream"
    }
   ],
   "source": [
    "import matplotlib.pyplot as plt\n",
    "from sklearn.neighbors import KNeighborsClassifier\n",
    "import warnings\n",
    "warnings.filterwarnings('ignore', category=DeprecationWarning)\n",
    "\n",
    "knn = ms.GridSearchCV(estimator=KNeighborsClassifier(),\n",
    "                      param_grid={'n_neighbors': range(1, 10, 2)},\n",
    "                      cv=5, scoring=scoring, refit='f1')\n",
    "knn.fit(X_train, y_train)\n",
    "print('Best k:', knn.best_params_)"
   ]
  },
  {
   "cell_type": "code",
   "execution_count": 7,
   "metadata": {
    "pycharm": {
     "is_executing": false,
     "name": "#%% %matplotlib inline\n"
    }
   },
   "outputs": [
    {
     "data": {
      "text/plain": "<Figure size 1152x576 with 1 Axes>",
      "image/png": "[encoded data removed]"
     },
     "metadata": {
      "needs_background": "light"
     },
     "output_type": "display_data"
    }
   ],
   "source": [
    "def plot_cv_scores(results):\n",
    "    n = [int(x) for x in results['param_n_neighbors']]\n",
    "\n",
    "    f1 = results['mean_test_f1']\n",
    "    precision = results['mean_test_precision']\n",
    "    recall = results['mean_test_recall']\n",
    "    accuracy = results['mean_test_accuracy']\n",
    "\n",
    "    fig = plt.figure(figsize=(16, 8))\n",
    "    plt.plot(n, precision,\n",
    "             color='cornflowerblue', label='Precision',\n",
    "             linewidth=2)\n",
    "    plt.plot(n, f1,\n",
    "             color='orange', label='F1 Score',\n",
    "             linewidth=2)\n",
    "    plt.plot(n, recall,\n",
    "             color='forestgreen', label='Recall',\n",
    "             linewidth=2)\n",
    "    plt.plot(n, accuracy,\n",
    "             color='purple', label='Accuracy',\n",
    "             linewidth=2)\n",
    "\n",
    "    plt.xticks(n)\n",
    "    plt.xlabel('Num Neighbors', fontweight='bold')\n",
    "    plt.title('Mean Cross Validation Scores')\n",
    "    plt.legend(title='Scoring Method', loc='best', ncol=2, frameon=True)\n",
    "    \n",
    "    plt.show()\n",
    "\n",
    "plot_cv_scores(knn.cv_results_)"
   ]
  },
  {
   "cell_type": "markdown",
   "metadata": {},
   "source": [
    "Then evaluate the model's performance on the test set."
   ]
  },
  {
   "cell_type": "code",
   "execution_count": 8,
   "metadata": {
    "pycharm": {
     "is_executing": false,
     "name": "#%%\n"
    }
   },
   "outputs": [
    {
     "name": "stdout",
     "text": [
      "    Confusion Matrix\n                 Predict Positive    Predict Negative\nActual Positive         36                 5\nActual Negative         1                 72\n\nAccuracy: 0.947\n\n    Classification Report\n           Positive    Negative\nNum cases    41           73\nPrecision    0.97       0.94\nRecall       0.88       0.99\nF1 Score     0.92       0.96\n"
     ],
     "output_type": "stream"
    }
   ],
   "source": [
    "y_pred_knn = knn.predict(X_test)\n",
    "print_metrics(y_test, y_pred_knn)"
   ]
  },
  {
   "cell_type": "markdown",
   "metadata": {
    "pycharm": {
     "name": "#%% md\n"
    }
   },
   "source": [
    "As before, run 5-fold cross-validation on the entire dataset to evaluate the model's performance.  \n",
    "F1, precision, recall, and accuracy scores are reported for each fold as well as the mean score across all folds."
   ]
  },
  {
   "cell_type": "code",
   "execution_count": 9,
   "metadata": {
    "pycharm": {
     "is_executing": false,
     "name": "#%%\n"
    }
   },
   "outputs": [
    {
     "name": "stdout",
     "text": [
      "    Cross Validation Scores\n         F1     Precision    Recall    Accuracy\nFold 1   0.816    0.939      0.721     0.878\nFold 2   0.894    0.905      0.884     0.922\nFold 3   0.878    0.900      0.857     0.912\nFold 4   0.938    0.974      0.905     0.956\nFold 5   0.894    0.884      0.905     0.920\n\nMean F1: 0.884\nMean Precision: 0.920\nMean Recall: 0.854\nMean Accuracy: 0.918\n"
     ],
     "output_type": "stream"
    }
   ],
   "source": [
    "knn_cv_scores = ms.cross_validate(knn, features, labels,\n",
    "                                  cv=5, scoring=scoring)\n",
    "print_cv_scores(knn_cv_scores)"
   ]
  }
 ],
 "metadata": {
  "kernelspec": {
   "display_name": "Python 3",
   "language": "python",
   "name": "python3"
  },
  "language_info": {
   "codemirror_mode": {
    "name": "ipython",
    "version": 3
   },
   "file_extension": ".py",
   "mimetype": "text/x-python",
   "name": "python",
   "nbconvert_exporter": "python",
   "pygments_lexer": "ipython3",
   "version": "3.7.4"
  },
  "pycharm": {
   "stem_cell": {
    "cell_type": "raw",
    "source": [],
    "metadata": {
     "collapsed": false
    }
   }
  }
 },
 "nbformat": 4,
 "nbformat_minor": 1
}