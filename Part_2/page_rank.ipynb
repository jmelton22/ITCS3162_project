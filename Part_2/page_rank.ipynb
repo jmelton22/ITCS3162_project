{
 "cells": [
  {
   "cell_type": "markdown",
   "metadata": {
    "collapsed": true,
    "pycharm": {
     "name": "#%% md\n"
    }
   },
   "source": [
    "# <center>Group Project 2: Regression and Page Rank</center>\n",
    "## <center>Josh Melton and Ivan Benitez</center>  \n",
    "\n",
    "### Part 2: Page Rank\n",
    "\n",
    "#### a) Data preparation\n",
    "\n",
    "Read in the CAIDA network data into a networkx DiGraph.\n",
    "Data is a tab-delimited text file where each line of data is in the form (source, target, relationship).\n",
    "\n",
    "Version 1:\n",
    "- Read the data in as is\n",
    "\n",
    "Version 2:\n",
    "- If the relationship column is 1, retain the direction of the edge\n",
    "- If the relationship column is -1, reverse the direction of the edge\n",
    "- If the relationship column is 0, randomize the direction of the edge"
   ]
  },
  {
   "cell_type": "code",
   "execution_count": 1,
   "metadata": {
    "pycharm": {
     "is_executing": false,
     "name": "#%%\n"
    }
   },
   "outputs": [
    {
     "name": "stdout",
     "output_type": "stream",
     "text": [
      "# Directed graph: as-caida20071105.txt\n",
      "# The CAIDA AS Relationships Dataset, from 11 05 2007\n",
      "# Relationships:\t-1 (<FromNodeId> is a customer of <ToNodeId>)\n",
      "# \t\t\t1 (<FromNodeId> is a provider of <ToNodeId>)\n",
      "# \t\t\t0 (<FromNodeId> and <ToNodeId> are peers)\n",
      "# \t\t\t2 (<FromNodeId> and <ToNodeId> are siblings (the same organization).)\n",
      "# Nodes:26475\tEdges: 106762\n",
      "# FromNodeId        ToNodeId\tRelationship\n"
     ]
    }
   ],
   "source": [
    "from random import choice\n",
    "import networkx as nx\n",
    "\n",
    "graph_v1 = nx.DiGraph()\n",
    "graph_v2 = nx.DiGraph()\n",
    "\n",
    "with open('as-caida20071105.txt') as f:\n",
    "    for line in f.readlines():\n",
    "        if line.startswith('#'):\n",
    "            print(line.strip())\n",
    "            continue\n",
    "\n",
    "        # Extract source node, target node, and relationship from each line\n",
    "        source, target, relation = [int(x) for x in line.strip().split('\\t')]\n",
    "\n",
    "        # Add edge to graph version 1\n",
    "        graph_v1.add_edge(source, target)\n",
    "\n",
    "        # For graph version 2:\n",
    "        # If relationship is 1, retain edge direction\n",
    "        # If relationship is -1, reverse edge direction\n",
    "        # Else, randomize edge direction\n",
    "        if relation == 1:\n",
    "            graph_v2.add_edge(source, target)\n",
    "        elif relation == -1:\n",
    "            graph_v2.add_edge(target, source)\n",
    "        else:\n",
    "            graph_v2.add_edge(source, target) if choice([True, False]) else graph_v2.add_edge(target, source)"
   ]
  },
  {
   "cell_type": "markdown",
   "metadata": {},
   "source": [
    "#### b) Page Rank\n",
    "\n",
    "For each version of the graph:\n",
    "- Print the number of nodes and edges in the graph\n",
    "- Apply the Page Rank algorithm\n",
    "- Report the top 10 highest ranked nodes and the top 10 lowest ranked nodes"
   ]
  },
  {
   "cell_type": "code",
   "execution_count": 2,
   "metadata": {
    "pycharm": {
     "is_executing": false,
     "name": "#%%\n"
    }
   },
   "outputs": [
    {
     "name": "stdout",
     "output_type": "stream",
     "text": [
      "Graph v1:\n",
      "Number of nodes: 26475\n",
      "Number of edges: 106762\n",
      "Top 10 ranked nodes:\n",
      "\tNode: 701\tRank: 0.02304\n",
      "\tNode: 7018\tRank: 0.01847\n",
      "\tNode: 1239\tRank: 0.01475\n",
      "\tNode: 174\tRank: 0.01419\n",
      "\tNode: 3356\tRank: 0.01333\n",
      "\tNode: 209\tRank: 0.01154\n",
      "\tNode: 4323\tRank: 0.00841\n",
      "\tNode: 3549\tRank: 0.00799\n",
      "\tNode: 7132\tRank: 0.00633\n",
      "\tNode: 2828\tRank: 0.00492\n",
      "\n",
      "Bottom 10 ranked nodes:\n",
      "\tNode: 19215\tRank: 1.01299e-05\n",
      "\tNode: 36241\tRank: 1.01299e-05\n",
      "\tNode: 19654\tRank: 1.01299e-05\n",
      "\tNode: 36385\tRank: 1.01244e-05\n",
      "\tNode: 25587\tRank: 1.00766e-05\n",
      "\tNode: 12495\tRank: 1.00766e-05\n",
      "\tNode: 32978\tRank: 1.00755e-05\n",
      "\tNode: 65473\tRank: 1.00189e-05\n",
      "\tNode: 26031\tRank: 1.00189e-05\n",
      "\tNode: 22295\tRank: 1.00189e-05\n",
      "--------------------------------------------------\n",
      "Graph v2:\n",
      "Number of nodes: 26475\n",
      "Number of edges: 55486\n",
      "Top 10 ranked nodes:\n",
      "\tNode: 25462\tRank: 0.00232\n",
      "\tNode: 13237\tRank: 0.00214\n",
      "\tNode: 3303\tRank: 0.00158\n",
      "\tNode: 19151\tRank: 0.00155\n",
      "\tNode: 8001\tRank: 0.00113\n",
      "\tNode: 3267\tRank: 0.00091\n",
      "\tNode: 6539\tRank: 0.00090\n",
      "\tNode: 812\tRank: 0.00087\n",
      "\tNode: 19029\tRank: 0.00084\n",
      "\tNode: 3213\tRank: 0.00084\n",
      "\n",
      "Bottom 10 ranked nodes:\n",
      "\tNode: 6494\tRank: 3.12555e-05\n",
      "\tNode: 217\tRank: 3.12555e-05\n",
      "\tNode: 23654\tRank: 3.12555e-05\n",
      "\tNode: 13185\tRank: 3.12555e-05\n",
      "\tNode: 8475\tRank: 3.12555e-05\n",
      "\tNode: 23143\tRank: 3.12555e-05\n",
      "\tNode: 6350\tRank: 3.12555e-05\n",
      "\tNode: 20029\tRank: 3.12555e-05\n",
      "\tNode: 65504\tRank: 3.12555e-05\n",
      "\tNode: 291\tRank: 3.12555e-05\n",
      "--------------------------------------------------\n"
     ]
    }
   ],
   "source": [
    "for i, graph in enumerate([graph_v1, graph_v2]):\n",
    "    print('Graph v{}:'.format(i+1))\n",
    "    print('Number of nodes:', graph.number_of_nodes())\n",
    "    print('Number of edges:', graph.number_of_edges())\n",
    "    \n",
    "    pr = nx.pagerank(graph, alpha=0.9)\n",
    "\n",
    "    # Sort nodes based on page rank value\n",
    "    sorted_pr = sorted(pr.items(), key=lambda x: x[1], reverse=True)\n",
    "\n",
    "    print('Top 10 ranked nodes:')\n",
    "    for node, rank in sorted_pr[:10]:\n",
    "        print('\\tNode: {}\\tRank: {:.5f}'.format(node, rank))\n",
    "\n",
    "    print('\\nBottom 10 ranked nodes:')\n",
    "    for node, rank in sorted_pr[-10:]:\n",
    "        print('\\tNode: {}\\tRank: {:.5e}'.format(node, rank))\n",
    "    print('-' * 50)"
   ]
  }
 ],
 "metadata": {
  "kernelspec": {
   "display_name": "Python 3",
   "language": "python",
   "name": "python3"
  },
  "language_info": {
   "codemirror_mode": {
    "name": "ipython",
    "version": 3
   },
   "file_extension": ".py",
   "mimetype": "text/x-python",
   "name": "python",
   "nbconvert_exporter": "python",
   "pygments_lexer": "ipython3",
   "version": "3.7.4"
  },
  "pycharm": {
   "stem_cell": {
    "cell_type": "raw",
    "metadata": {
     "collapsed": false
    },
    "source": []
   }
  }
 },
 "nbformat": 4,
 "nbformat_minor": 1
}
